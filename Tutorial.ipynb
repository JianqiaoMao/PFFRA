{
 "cells": [
  {
   "cell_type": "markdown",
   "id": "ce83d718",
   "metadata": {},
   "source": [
    "# Permutation Feature-based Frequency Response Analysis\n",
    "## A brief tutorial for PFFRA"
   ]
  },
  {
   "cell_type": "code",
   "execution_count": null,
   "id": "0656b890",
   "metadata": {},
   "outputs": [],
   "source": [
    "import PFFRA\n",
    "import numpy as np\n",
    "import matplotlib.pyplot as plt\n",
    "from xgboost import XGBRegressor"
   ]
  },
  {
   "cell_type": "markdown",
   "id": "b2068f34",
   "metadata": {},
   "source": [
    "#### Generate synthetic data for regression"
   ]
  },
  {
   "cell_type": "code",
   "execution_count": null,
   "id": "72856c49",
   "metadata": {},
   "outputs": [],
   "source": [
    "# Generate a simple synthetic dataset\n",
    "t = np.linspace(0,10, 1000)\n",
    "x1 = np.sin(2 * np.pi * 10 * t)\n",
    "x2 = np.sin(2 * np.pi * 20 * t)\n",
    "x3 = np.cos(2* np.pi * 50 * t)\n",
    "\n",
    "X = np.vstack((x1, x2, x3)).T\n",
    "y = 2*x1+x2+0.5*x3"
   ]
  },
  {
   "cell_type": "markdown",
   "id": "16ec637a",
   "metadata": {},
   "source": [
    "#### Train a XGBM model and generate predictions"
   ]
  },
  {
   "cell_type": "code",
   "execution_count": null,
   "id": "79a6f6e5",
   "metadata": {},
   "outputs": [],
   "source": [
    "model = XGBRegressor(n_estimators = 100)\n",
    "model = model.fit(X, y)\n",
    "y_hat = model.predict(X)"
   ]
  },
  {
   "cell_type": "markdown",
   "id": "6e7506d3",
   "metadata": {},
   "source": [
    "#### Plot predictions"
   ]
  },
  {
   "cell_type": "code",
   "execution_count": null,
   "id": "07c88f33",
   "metadata": {},
   "outputs": [],
   "source": [
    "plt.figure(figsize = (10, 6))\n",
    "plt.plot(t, y_hat)\n",
    "plt.xlabel(\"time(t)\")\n",
    "plt.ylabel(\"y_hat\")\n",
    "plt.title(\"XGBM predicted time series\")"
   ]
  },
  {
   "cell_type": "markdown",
   "id": "47c71e80",
   "metadata": {},
   "source": [
    "#### Apply PFFRA\n",
    "##### Draw spectrum figures directly for a given interested feature index\n",
    "By instantiating class **PermFeatureFreqRespoAnalysis** to specify the feature index as 1, we are able to call **show()** to draw the graph that compares the spectrums with the feature $x_1$ and other features are permuted by thier mean values. The lower subfigure shows the frequency response using the original dataset with all features. "
   ]
  },
  {
   "cell_type": "code",
   "execution_count": null,
   "id": "c3285a5a",
   "metadata": {},
   "outputs": [],
   "source": [
    "pffra = PFFRA.PermFeatureFreqRespoAnalysis(y = y, X = X, model = model, \n",
    "                                           interested_feature_index = 1, sample_rate=100)\n",
    "pffra.show(rename_feature = \"x0=sin(2 *pi*10*t)\")"
   ]
  },
  {
   "cell_type": "markdown",
   "id": "b25e27e7",
   "metadata": {},
   "source": [
    "##### Investigate multiple features and output their permutation spectrum data\n",
    "Calling **gen_spectrum()** method allows us to get access to the spectrum data for any feature."
   ]
  },
  {
   "cell_type": "code",
   "execution_count": null,
   "id": "43163e74",
   "metadata": {},
   "outputs": [],
   "source": [
    "fig = plt.figure(figsize = (14,6))\n",
    "ax1 = fig.add_subplot(121)\n",
    "for i in range(X.shape[1]):\n",
    "    pffra = PFFRA.PermFeatureFreqRespoAnalysis(y = y, X = X, model = model, \n",
    "                                               interested_feature_index = i, sample_rate=100)\n",
    "    spectrum_interested_i, spectrum_other_i, spectrum_all, frq_range = pffra.gen_spectrum()\n",
    "    plt.rcParams[\"axes.labelsize\"] = 14\n",
    "    plt.rcParams[\"axes.titlesize\"] = 16  \n",
    "    plt.rcParams[\"xtick.labelsize\"] = \"large\"\n",
    "    plt.rcParams[\"ytick.labelsize\"] = \"large\"\n",
    "    ax1.plot(frq_range, spectrum_interested_i, \n",
    "             label = \"x_{} (DC: {:.2f})\".format(i, spectrum_interested_i[0]))\n",
    "    ax1.legend()\n",
    "    ax1.set_xlabel(\"Frequency(Hz)\")\n",
    "    ax1.set_ylabel(\"Magnitude\")\n",
    "    ax1.set_title(\"Frequency Responses for each component\")\n",
    "\n",
    "ax2 = fig.add_subplot(122)\n",
    "ax2.plot(frq_range[1:], spectrum_all[1:], \n",
    "         label = \"{} (DC: {:.2e})\".format(\"all features\", spectrum_all[0]))\n",
    "ax2.legend()\n",
    "ax2.set_xlim(frq_range[1], frq_range[-1])\n",
    "ax2.set_xlabel(\"Frequency (Hz)\")\n",
    "ax2.set_ylabel(\"Magnitude\")\n",
    "ax2.set_title(\"Frequency Responses for the all components\")\n",
    "plt.show()"
   ]
  }
 ],
 "metadata": {
  "kernelspec": {
   "display_name": "Python 3 (ipykernel)",
   "language": "python",
   "name": "python3"
  },
  "language_info": {
   "codemirror_mode": {
    "name": "ipython",
    "version": 3
   },
   "file_extension": ".py",
   "mimetype": "text/x-python",
   "name": "python",
   "nbconvert_exporter": "python",
   "pygments_lexer": "ipython3",
   "version": "3.9.12"
  }
 },
 "nbformat": 4,
 "nbformat_minor": 5
}
